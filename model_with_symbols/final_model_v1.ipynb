{
 "cells": [
  {
   "cell_type": "code",
   "execution_count": 1,
   "metadata": {},
   "outputs": [],
   "source": [
    "import cv2\n",
    "import glob\n",
    "#from google.colab.patches import cv2_imshow\n",
    "from keras.datasets import mnist\n",
    "from keras import models\n",
    "from keras import layers\n",
    "from PIL import Image, ImageDraw\n",
    "import numpy as np\n",
    "from keras.datasets import mnist\n",
    "from keras.layers import Dense, Flatten\n",
    "from keras.layers.convolutional import Conv2D\n",
    "from keras.models import Sequential\n",
    "from keras.utils import to_categorical\n",
    "import matplotlib.pyplot as plt\n",
    "from keras.models import Sequential\n",
    "from keras.layers import Dense\n",
    "from keras.layers import Dropout\n",
    "from keras.layers import Flatten\n",
    "from keras.layers.convolutional import Conv2D\n",
    "from keras.layers.convolutional import MaxPooling2D\n",
    "from keras.optimizers import Adam\n",
    "from keras.utils import np_utils\n"
   ]
  },
  {
   "cell_type": "code",
   "execution_count": 27,
   "metadata": {},
   "outputs": [],
   "source": [
    "(train_images, train_labels), (test_images, test_labels) = mnist.load_data()\n"
   ]
  },
  {
   "cell_type": "code",
   "execution_count": 29,
   "metadata": {},
   "outputs": [
    {
     "name": "stdout",
     "output_type": "stream",
     "text": [
      "['+', '-', '=', 'division', 'multiplication', 'x', 'y', 'z']\n",
      "['test_purpose']\n"
     ]
    }
   ],
   "source": [
    "## Insert local drive location where all 5 signs are extracted\n",
    "import os\n",
    "\n",
    "def path_directory(path):\n",
    "    path_name = []\n",
    "    test_purpose = []\n",
    "    for filename in os.listdir(path):\n",
    "        if filename == \"test_purpose\":\n",
    "            test_purpose.append(\"test_purpose\")\n",
    "        else:\n",
    "            path_name.append(filename)\n",
    "        \n",
    "    return path_name,test_purpose\n",
    "\n",
    "\n",
    "path,test_purpose = path_directory('C:/Users/Vishal Patil/Desktop/Data Science/Sem 3/Deep Learning Neural Networks/Project/Data_symbols/extract_necessary')\n",
    "print(path)\n",
    "print(test_purpose)"
   ]
  },
  {
   "cell_type": "code",
   "execution_count": 31,
   "metadata": {},
   "outputs": [],
   "source": [
    "def add_symbols(path):\n",
    "    images = []\n",
    "    labels = []\n",
    "    for path in path:\n",
    "        for img in glob.glob(\"C:/Users/Vishal Patil/Desktop/Data Science/Sem 3/Deep Learning Neural Networks/Project/Data_symbols/extract_necessary/{}/*.jpg\".format(path)):\n",
    "            #images.append(img)\n",
    "            labels.append(path)\n",
    "            #np.append(train_images,im_resize)\n",
    "            img = cv2.imread(img,cv2.IMREAD_GRAYSCALE)\n",
    "            im_resize = cv2.resize(img,(28,28), interpolation=cv2.INTER_AREA)\n",
    "            im_bw = cv2.bitwise_not(im_resize)\n",
    "            #dilated_image = cv2.dilate(im_resize, (3, 3))\n",
    "            im_resize=np.reshape(im_bw,(28,28))\n",
    "            images.append(im_resize)\n",
    "    \n",
    "    return images,labels\n",
    "\n",
    "images,labels = add_symbols(path)"
   ]
  },
  {
   "cell_type": "code",
   "execution_count": 33,
   "metadata": {},
   "outputs": [
    {
     "name": "stdout",
     "output_type": "stream",
     "text": [
      "30030\n",
      "(90030,)\n",
      "(90030, 28, 28)\n"
     ]
    }
   ],
   "source": [
    "### dictionary to convert string classes to integer and concatenate the kaggle symbols dataset with mnist dataset\n",
    "\n",
    "dict1 = {10:'+',11:'-', 12:'=', 13:'division', 14:'multiplication', 15:'x', 16:'y', 17:'z'}\n",
    "\n",
    "for i in range(len(labels)):\n",
    "    for j in dict1:\n",
    "        if labels[i] == dict1[j]:\n",
    "            labels[i] = j\n",
    "print(len(labels))\n",
    "labels_array = np.array(labels)\n",
    "train_labels = np.concatenate((train_labels,labels_array))\n",
    "symbols_array = np.array(images)\n",
    "train_images = np.concatenate((train_images,symbols_array))\n",
    "print(train_labels.shape)\n",
    "print(train_images.shape)"
   ]
  },
  {
   "cell_type": "code",
   "execution_count": 34,
   "metadata": {},
   "outputs": [
    {
     "name": "stdout",
     "output_type": "stream",
     "text": [
      "Please enter an image number50000\n",
      "Label is 3\n"
     ]
    },
    {
     "data": {
      "image/png": "[encoded data removed]",
      "text/plain": [
       "<Figure size 432x288 with 1 Axes>"
      ]
     },
     "metadata": {
      "needs_background": "light"
     },
     "output_type": "display_data"
    }
   ],
   "source": [
    "input_image = int(input(\"Please enter an image number\"))\n",
    "for i in dict1:\n",
    "    example = train_images[input_image]\n",
    "    if i == train_labels[input_image]:\n",
    "        print(\"label is\",dict1[i])\n",
    "        break\n",
    "    else: \n",
    "        print(\"Label is\",train_labels[input_image])\n",
    "        break\n",
    "plt.imshow(example.reshape(28, 28), cmap=\"gray\")\n",
    "plt.show()\n",
    "#example = train_images[61000]\n",
    "    "
   ]
  },
  {
   "cell_type": "code",
   "execution_count": 35,
   "metadata": {},
   "outputs": [
    {
     "name": "stdout",
     "output_type": "stream",
     "text": [
      "Shape of X_train: (90030, 28, 28)\n",
      "Shape of y_train: (90030,)\n",
      "Shape of X_test: (10000, 28, 28)\n",
      "Shape of y_test: (10000,)\n"
     ]
    }
   ],
   "source": [
    "print (\"Shape of X_train: {}\".format(train_images.shape))\n",
    "print (\"Shape of y_train: {}\".format(train_labels.shape))\n",
    "print (\"Shape of X_test: {}\".format(test_images.shape))\n",
    "print (\"Shape of y_test: {}\".format(test_labels.shape))\n",
    "\n",
    "train_images = train_images.reshape(90030, 28, 28, 1)\n",
    "train_images = train_images.astype('float32') / 255\n",
    "test_images = test_images.reshape(10000, 28, 28, 1)\n",
    "test_images = test_images.astype('float32') / 255\n",
    "train_labels = to_categorical(train_labels)\n",
    "test_labels = to_categorical(test_labels)\n"
   ]
  },
  {
   "cell_type": "code",
   "execution_count": 36,
   "metadata": {},
   "outputs": [],
   "source": [
    "def create_model():\n",
    "    model = Sequential()\n",
    "    model.add(Conv2D(32, kernel_size=(3,3), input_shape=(28, 28, 1), activation='relu'))\n",
    "    model.add(Conv2D(64, kernel_size=(3,3), activation='relu'))\n",
    "    model.add(Flatten())\n",
    "    model.add(Dense(18, activation='softmax'))\n",
    "\n",
    "    model.summary()\n",
    "    model.compile(optimizer='adam', loss='categorical_crossentropy', metrics=['accuracy'])\n",
    "\n",
    "    return model    "
   ]
  },
  {
   "cell_type": "code",
   "execution_count": 83,
   "metadata": {},
   "outputs": [
    {
     "name": "stdout",
     "output_type": "stream",
     "text": [
      "Model: \"sequential_1\"\n",
      "_________________________________________________________________\n",
      "Layer (type)                 Output Shape              Param #   \n",
      "=================================================================\n",
      "conv2d_2 (Conv2D)            (None, 26, 26, 32)        320       \n",
      "_________________________________________________________________\n",
      "conv2d_3 (Conv2D)            (None, 24, 24, 64)        18496     \n",
      "_________________________________________________________________\n",
      "flatten_1 (Flatten)          (None, 36864)             0         \n",
      "_________________________________________________________________\n",
      "dense_1 (Dense)              (None, 18)                663570    \n",
      "=================================================================\n",
      "Total params: 682,386\n",
      "Trainable params: 682,386\n",
      "Non-trainable params: 0\n",
      "_________________________________________________________________\n"
     ]
    }
   ],
   "source": [
    "model = Sequential()\n",
    "model.add(Conv2D(32, kernel_size=(3,3), input_shape=(28, 28, 1), activation='relu'))\n",
    "model.add(Conv2D(64, kernel_size=(3,3), activation='relu'))\n",
    "model.add(Flatten())\n",
    "model.add(Dense(18, activation='softmax'))\n"
   ]
  },
  {
   "cell_type": "code",
   "execution_count": 11,
   "metadata": {},
   "outputs": [
    {
     "name": "stdout",
     "output_type": "stream",
     "text": [
      "Model: \"sequential\"\n",
      "_________________________________________________________________\n",
      "Layer (type)                 Output Shape              Param #   \n",
      "=================================================================\n",
      "conv2d (Conv2D)              (None, 26, 26, 32)        320       \n",
      "_________________________________________________________________\n",
      "conv2d_1 (Conv2D)            (None, 24, 24, 64)        18496     \n",
      "_________________________________________________________________\n",
      "flatten (Flatten)            (None, 36864)             0         \n",
      "_________________________________________________________________\n",
      "dense (Dense)                (None, 18)                663570    \n",
      "=================================================================\n",
      "Total params: 682,386\n",
      "Trainable params: 682,386\n",
      "Non-trainable params: 0\n",
      "_________________________________________________________________\n",
      "Epoch 1/2\n",
      "2814/2814 [==============================] - 229s 81ms/step - loss: 0.1344 - accuracy: 0.9616\n",
      "Epoch 2/2\n",
      "2814/2814 [==============================] - 227s 81ms/step - loss: 0.0423 - accuracy: 0.9879\n"
     ]
    },
    {
     "data": {
      "text/plain": [
       "<tensorflow.python.keras.callbacks.History at 0x3bc580ca48>"
      ]
     },
     "execution_count": 11,
     "metadata": {},
     "output_type": "execute_result"
    }
   ],
   "source": [
    "model=create_model()\n",
    "model.fit(train_images, train_labels, epochs=2)\n"
   ]
  },
  {
   "cell_type": "code",
   "execution_count": 45,
   "metadata": {},
   "outputs": [],
   "source": [
    "def add_symbols(test_purpose):\n",
    "    testing_images = []\n",
    "    for path in test_purpose:\n",
    "        for img in glob.glob(\"C:/Users/Vishal Patil/Desktop/Data Science/Sem 3/Deep Learning Neural Networks/Project/Data_symbols/extract_necessary/{}/*.jpg\".format(path)):\n",
    "            equalto = cv2.imread(img, cv2.IMREAD_COLOR)\n",
    "            gray = cv2.cvtColor(equalto, cv2.COLOR_BGR2GRAY)\n",
    "            im_resize = cv2.resize(gray,(28,28), interpolation=cv2.INTER_AREA)\n",
    "            changed_colour = cv2.bitwise_not(im_resize)\n",
    "            changed_colour = np.reshape(changed_colour,(28,28))\n",
    "            #images.append(changed_colour)\n",
    "            testing_images.append(changed_colour)\n",
    "            #np.append(train_images,im_resize)\n",
    "    return testing_images\n",
    "\n",
    "test_symbols = add_symbols(test_purpose)"
   ]
  },
  {
   "cell_type": "code",
   "execution_count": 80,
   "metadata": {},
   "outputs": [
    {
     "name": "stdout",
     "output_type": "stream",
     "text": [
      "Predicted class is [0]\n"
     ]
    },
    {
     "data": {
      "image/png": "[encoded data removed]",
      "text/plain": [
       "<Figure size 432x288 with 1 Axes>"
      ]
     },
     "metadata": {
      "needs_background": "light"
     },
     "output_type": "display_data"
    },
    {
     "name": "stdout",
     "output_type": "stream",
     "text": [
      "Predicted class is -\n"
     ]
    },
    {
     "data": {
      "image/png": "[encoded data removed]",
      "text/plain": [
       "<Figure size 432x288 with 1 Axes>"
      ]
     },
     "metadata": {
      "needs_background": "light"
     },
     "output_type": "display_data"
    },
    {
     "name": "stdout",
     "output_type": "stream",
     "text": [
      "Predicted class is =\n"
     ]
    },
    {
     "data": {
      "image/png": "[encoded data removed]",
      "text/plain": [
       "<Figure size 432x288 with 1 Axes>"
      ]
     },
     "metadata": {
      "needs_background": "light"
     },
     "output_type": "display_data"
    }
   ],
   "source": [
    "def initial_predict(example):\n",
    "    prediction = model.predict_classes(example.reshape(1, 28, 28, 1))\n",
    "    if prediction[0] >= 9:\n",
    "        for i in dict1:\n",
    "            if i == prediction[0]:\n",
    "                print(\"Predicted class is\", dict1[i])\n",
    "    else:\n",
    "        print(\"Predicted class is\", prediction)\n",
    "    plt.imshow(example.reshape(28, 28), cmap=\"gray\")\n",
    "    plt.show()\n",
    "    return prediction\n",
    "init = initial_predict(test_images[25])\n",
    "predict_symbols = initial_predict(test_symbols[0])\n",
    "predict_symbols = initial_predict(test_symbols[2])\n",
    "#dict1 = {10:'+',11:'-', 12:'=', 13:'division', 14:'multiplication', 15:'x', 16:'y', 17:'z'}\n"
   ]
  },
  {
   "cell_type": "code",
   "execution_count": 125,
   "metadata": {},
   "outputs": [
    {
     "name": "stdout",
     "output_type": "stream",
     "text": [
      "i am here\n"
     ]
    },
    {
     "data": {
      "text/plain": [
       "<matplotlib.image.AxesImage at 0xb3528e9088>"
      ]
     },
     "execution_count": 125,
     "metadata": {},
     "output_type": "execute_result"
    },
    {
     "data": {
      "image/png": "[encoded data removed]",
      "text/plain": [
       "<Figure size 432x288 with 1 Axes>"
      ]
     },
     "metadata": {
      "needs_background": "light"
     },
     "output_type": "display_data"
    }
   ],
   "source": [
    "### Final - Final\n",
    "\n",
    "def cropping(path):\n",
    "    print('i am here')\n",
    "    imagem = cv2.imread(path, cv2.IMREAD_COLOR)\n",
    "    # Convert black pixels to white and white to black\n",
    "    img = cv2.bitwise_not(imagem)\n",
    "    # Convert to gray-scale\n",
    "    gray = cv2.cvtColor(img, cv2.COLOR_BGR2GRAY)\n",
    "    # Blur the image to reduce noise\n",
    "    img_blur = cv2.medianBlur(gray, 5)\n",
    "    # Find the edges in the image using canny detector\n",
    "    edges = cv2.Canny(img_blur, 50, 200)\n",
    "    # Detect points that form a line\n",
    "    lines = cv2.HoughLinesP(edges, 1, np.pi/180,\n",
    "                            threshold=100, minLineLength=10, maxLineGap=250)\n",
    "    # Draw lines on the image\n",
    "    for line in lines:\n",
    "        x1, y1, x2, y2 = line[0]\n",
    "        cv2.line(img, (x1, y1), (x2, y2), (0, 0, 0), 1)\n",
    "    cropped = []\n",
    "    # Apply hough transform on the image\n",
    "    circles = cv2.HoughCircles(img_blur, cv2.HOUGH_GRADIENT, 1,\n",
    "                               img.shape[0]/64, param1=200, param2=10, minRadius=10, maxRadius=20)\n",
    "    # Draw detected circles\n",
    "    if circles is not None:\n",
    "        circles = np.uint16(np.around(circles))\n",
    "        sorted_array = circles[0][np.argsort(circles[0][:, 1])]\n",
    "        for i in sorted_array:\n",
    "            # Draw outer circle\n",
    "            cv2.circle(img, (i[0], i[1]), i[2], (0, 0, 0), 10)\n",
    "            crop_img = img[i[1] - i[2]:i[1] + i[2], i[0] - i[2]:i[0] + i[2], :]\n",
    "            cropped.append(crop_img)\n",
    "    return cropped\n",
    "\n",
    "### Give location of image\n",
    "cropped_image = cropping('C:/Users/Vishal Patil/Desktop/Data Science/Sem 3/Deep Learning Neural Networks/Project/deep-homework-grader-main/data/homework/train/00059.jpg')\n",
    "\n",
    "plt.imshow(cropped_image[0],cmap='gray')"
   ]
  },
  {
   "cell_type": "code",
   "execution_count": 127,
   "metadata": {},
   "outputs": [
    {
     "name": "stdout",
     "output_type": "stream",
     "text": [
      "Predicted class is [9]\n",
      "Predicted class is [0]\n",
      "Predicted class is [3]\n",
      "Predicted class is [6]\n"
     ]
    }
   ],
   "source": [
    "def predict(images):\n",
    "    digits_stored = []\n",
    "    signs = []\n",
    "    for i in images:\n",
    "        im_gray = cv2.cvtColor(i, cv2.COLOR_BGR2GRAY)\n",
    "        #(thresh, im_bw) = cv2.threshold(im_gray, 128, 255, cv2.THRESH_BINARY | cv2.THRESH_OTSU)\n",
    "        thresh = 127\n",
    "        im_bw = cv2.threshold(im_gray, thresh, 255, cv2.THRESH_BINARY)[1]\n",
    "        dim = (28, 28)\n",
    "        resized = cv2.resize(im_bw, dim)\n",
    "        # print(resized.shape)\n",
    "        imge = np.resize(resized, (28, 28, 1))\n",
    "        arr = np.array(imge) / 255\n",
    "        im2arr = arr.reshape(1, 28, 28, 1)\n",
    "        y_pred = model.predict_classes(im2arr)\n",
    "        if y_pred > 9:\n",
    "            for j in dict1:\n",
    "                if y_pred == j:\n",
    "                    signs.append(dict1[j])\n",
    "        digits_stored.append(y_pred)\n",
    "        print(\"Predicted class is\", y_pred)\n",
    "\n",
    "    return digits_stored,signs\n",
    "\n",
    "image_prediction,signs = predict(cropped_image)\n"
   ]
  },
  {
   "cell_type": "code",
   "execution_count": 128,
   "metadata": {},
   "outputs": [
    {
     "name": "stdout",
     "output_type": "stream",
     "text": [
      "Your answer is incorrect for question 1 and Your answer is [9] ,Expected answer is [5]\n",
      "Your answer is incorrect for question 2 and Your answer is [0] ,Expected answer is [3]\n",
      "Your answer is incorrect for question 3 and Your answer is [3] ,Expected answer is [0]\n",
      "Your answer is correct for question 4 ,Your answer is [6]\n",
      "Total marks = 1\n"
     ]
    }
   ],
   "source": [
    "## Matching with existing answer sheet\n",
    "\n",
    "def matching(image_prediction,standard_array):\n",
    "    total_marks = 0\n",
    "    #unmatched = []\n",
    "    for i in range(len(standard_array)):\n",
    "        if standard_array[i] == image_prediction[i]:\n",
    "            print(\"Your answer is correct for question\",i+1,\",Your answer is\",image_prediction[i])\n",
    "            total_marks = total_marks + 1\n",
    "        else:\n",
    "            print(\"Your answer is incorrect for question\",i+1,\"and Your answer is\",image_prediction[i],\",Expected answer is\",standard_array[i])\n",
    "            \n",
    "    return total_marks\n",
    "\n",
    "### Define standard array which contains answers\n",
    "standard_array = np.array([[5], [3], [0], [6]])\n",
    "#np.where(standard_array==image_prediction)\n",
    "#np.intersect1d(image_prediction,standard_array)\n",
    "match = matching(image_prediction,standard_array)   \n",
    "print(\"Total marks =\",match)"
   ]
  },
  {
   "cell_type": "code",
   "execution_count": 81,
   "metadata": {},
   "outputs": [],
   "source": [
    "# Saving model\n",
    "\n",
    "#model.save('C:/Users/Vishal Patil/Desktop/Data Science/Sem 3/Deep Learning Neural Networks/Project/model_with_symbols/most_accurate.h5')"
   ]
  },
  {
   "cell_type": "code",
   "execution_count": null,
   "metadata": {},
   "outputs": [],
   "source": [
    "### Partial credits\n",
    "\n",
    "maxArea = 800\n",
    "minArea = 100\n",
    "\n",
    "for fin in fin_crop:\n",
    "    image = np.array(fin)#, dtype = np.uint8)\n",
    "    #gray = image[:, :, ::-1].copy().astype(np.uint8)\n",
    "    Igray = cv2.cvtColor(image,cv2.COLOR_RGB2GRAY)\n",
    "    # Igray = gray\n",
    "\n",
    "    # Threshold\n",
    "    #ret, Ithresh = cv2.threshold(Igray,0,255,cv2.THRESH_BINARY_INV+cv2.THRESH_OTSU)\n",
    "    ret, Ithresh = cv2.threshold(Igray,0,255,cv2.THRESH_BINARY_INV+cv2.THRESH_OTSU)\n",
    "\n",
    "    # Keep only small components but not to small\n",
    "    comp = cv2.connectedComponentsWithStats(Ithresh)\n",
    "\n",
    "    labels = comp[1]\n",
    "    labelStats = comp[2]\n",
    "    labelAreas = labelStats[:,4]\n",
    "\n",
    "    for compLabel in range(1,comp[0],1):\n",
    "        print(labelAreas[compLabel])\n",
    "\n",
    "        if labelAreas[compLabel] > maxArea or labelAreas[compLabel] < minArea:\n",
    "            labels[labels==compLabel] = 0\n",
    "\n",
    "    labels[labels>0] =  1\n",
    "\n",
    "    # Do dilation\n",
    "    se = cv2.getStructuringElement(cv2.MORPH_ELLIPSE,(25,25))\n",
    "    IdilateText = cv2.morphologyEx(labels.astype(np.uint8),cv2.MORPH_DILATE,se)\n",
    "\n",
    "    # Find connected component again\n",
    "    comp = cv2.connectedComponentsWithStats(IdilateText)\n",
    "\n",
    "    # Draw a rectangle around the text\n",
    "    labels = comp[1]\n",
    "    labelStats = comp[2]\n",
    "\n",
    "    for compLabel in range(1,comp[0],1):\n",
    "        print('i am here')\n",
    "        cv2.rectangle(Igray,(labelStats[compLabel,0],labelStats[compLabel,1]),(labelStats[compLabel,0]+labelStats[compLabel,2],labelStats[compLabel,1]+labelStats[compLabel,3]),(0,0,255),2)\n",
    "    plt.imshow(Igray)\n",
    "    plt.show()\n",
    "\n",
    "    break"
   ]
  }
 ],
 "metadata": {
  "kernelspec": {
   "display_name": "Python 3",
   "language": "python",
   "name": "python3"
  },
  "language_info": {
   "codemirror_mode": {
    "name": "ipython",
    "version": 3
   },
   "file_extension": ".py",
   "mimetype": "text/x-python",
   "name": "python",
   "nbconvert_exporter": "python",
   "pygments_lexer": "ipython3",
   "version": "3.7.4"
  }
 },
 "nbformat": 4,
 "nbformat_minor": 2
}
